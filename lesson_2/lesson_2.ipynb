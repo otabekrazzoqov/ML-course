{
 "cells": [
  {
   "cell_type": "markdown",
   "id": "98edce19",
   "metadata": {},
   "source": [
    "# Data types"
   ]
  },
  {
   "cell_type": "markdown",
   "id": "8f712a4c",
   "metadata": {},
   "source": []
  },
  {
   "cell_type": "code",
   "execution_count": 1,
   "id": "556998e7",
   "metadata": {},
   "outputs": [
    {
     "name": "stdout",
     "output_type": "stream",
     "text": [
      "1\n",
      "1.1\n",
      "three\n"
     ]
    },
    {
     "data": {
      "text/plain": [
       "False"
      ]
     },
     "execution_count": 1,
     "metadata": {},
     "output_type": "execute_result"
    }
   ],
   "source": [
    "a = 1\n",
    "print(a)\n",
    "\n",
    "b = 1.1 \n",
    "print(b)\n",
    "\n",
    "c = \"three\"\n",
    "print(c)\n",
    "\n",
    "4<4"
   ]
  },
  {
   "cell_type": "code",
   "execution_count": 2,
   "id": "bd3ecebf",
   "metadata": {},
   "outputs": [
    {
     "name": "stdout",
     "output_type": "stream",
     "text": [
      "22\n"
     ]
    }
   ],
   "source": [
    "a = 10\n",
    "b = 12 \n",
    "print(a+b)"
   ]
  },
  {
   "cell_type": "markdown",
   "id": "15df1711",
   "metadata": {},
   "source": [
    "#Berilgan 3 ta son ustida darsimizda berilgan Matematik operationslarni qo'llagan xolatda kodlar  yozing\n",
    "a=6\n",
    "b=4\n",
    "c=2\n",
    "\n",
    "# Math operations\n",
    "# +,-,*,/,//,%,**"
   ]
  },
  {
   "cell_type": "code",
   "execution_count": 3,
   "id": "94fe1427",
   "metadata": {},
   "outputs": [
    {
     "name": "stdout",
     "output_type": "stream",
     "text": [
      "12\n",
      "0\n",
      "48\n",
      "0.75\n",
      "0\n",
      "0\n",
      "2821109907456\n"
     ]
    }
   ],
   "source": [
    "a = 6\n",
    "b = 4 \n",
    "c = 2 \n",
    "\n",
    "print(a+b+c)\n",
    "print(a-b-c)\n",
    "print(a*b*c)\n",
    "print(a/b/c)\n",
    "print(a//b//c)\n",
    "print(a%b%c)\n",
    "print(a**b**c)"
   ]
  },
  {
   "cell_type": "code",
   "execution_count": null,
   "id": "181aa84f",
   "metadata": {},
   "outputs": [],
   "source": []
  },
  {
   "cell_type": "code",
   "execution_count": null,
   "id": "6f9bab89",
   "metadata": {},
   "outputs": [],
   "source": []
  },
  {
   "cell_type": "code",
   "execution_count": null,
   "id": "236ff31d",
   "metadata": {},
   "outputs": [],
   "source": []
  },
  {
   "cell_type": "code",
   "execution_count": null,
   "id": "dbb21ebf",
   "metadata": {},
   "outputs": [],
   "source": []
  }
 ],
 "metadata": {
  "kernelspec": {
   "display_name": "Python 3",
   "language": "python",
   "name": "python3"
  },
  "language_info": {
   "codemirror_mode": {
    "name": "ipython",
    "version": 3
   },
   "file_extension": ".py",
   "mimetype": "text/x-python",
   "name": "python",
   "nbconvert_exporter": "python",
   "pygments_lexer": "ipython3",
   "version": "3.12.3"
  }
 },
 "nbformat": 4,
 "nbformat_minor": 5
}
